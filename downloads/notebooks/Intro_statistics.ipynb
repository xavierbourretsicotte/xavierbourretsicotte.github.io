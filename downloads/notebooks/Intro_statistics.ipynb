{
 "cells": [
  {
   "cell_type": "markdown",
   "metadata": {},
   "source": [
    "# Introduction to statistics"
   ]
  },
  {
   "cell_type": "code",
   "execution_count": 1,
   "metadata": {
    "collapsed": true
   },
   "outputs": [],
   "source": [
    "import math as m\n",
    "import pandas as pd\n",
    "import numpy as np\n",
    "import matplotlib as mpl\n",
    "import matplotlib.pyplot as plt\n",
    "import scipy\n",
    "%matplotlib inline\n",
    "\n",
    "#Import the stats library\n",
    "from scipy import stats\n",
    "\n",
    "#from sympy import *\n",
    "#import sympy\n",
    "#sympy.init_printing()\n",
    "#import os\n",
    "#data_path = '/Users/User/Desktop/Mathematics/Khan'\n",
    "#os.chdir(data_path)"
   ]
  },
  {
   "cell_type": "markdown",
   "metadata": {},
   "source": [
    "# Discrete Random Variables\n",
    "---\n",
    "### Expected value (mean)\n",
    "$E(x) = \\mu_x = \\sum_{i=1}^{n} x_ip(x_i)$\n",
    "\n",
    "### Population Variance\n",
    "$Var(x) = \\sigma_x^2 = \\sum_{i=1}^{n}(x_i - \\mu)^2 p(x_i) $\n",
    "\n",
    "$Var(x) = E[(x - \\mu)^2] =E(x^2) - E(x)^2 $\n",
    "\n",
    "*Note that sample variance is calculated differently*\n",
    "\n",
    "### Skeweness\n",
    "The standardized third moment about the mean is called the skewness. It measures the \"shift to the left or right\" with respect to the assymetric shape. The tail is longer and the mass is concentrated on one side\n",
    "\n",
    "$\\alpha_3 = {\\frac{E(X - \\mu)^3}{\\sigma ^ 3} } = {\\frac{E(X - \\mu)^3}{var(x) ^{3/2}} }$\n",
    "\n",
    "### Kurtosis\n",
    "The standardized fourth moment about the mean is called the kurtosis. It is a measure of outliers: either existing outliers (for the sample kurtosis) or propensity to produce outliers (for the kurtosis of a probability distribution).\n",
    "\n",
    "$\\alpha_4 = {\\frac{E(X - \\mu)^4}{\\sigma ^ 4} }$\n"
   ]
  },
  {
   "cell_type": "code",
   "execution_count": 2,
   "metadata": {},
   "outputs": [
    {
     "name": "stdout",
     "output_type": "stream",
     "text": [
      "Expectation E(x) =  67.45\n",
      "Variance Var(x) =  8.5275\n",
      "Skeweness of x =  -0.108154371123\n"
     ]
    }
   ],
   "source": [
    "#Define a random variable X and its frequency distribution and probability density function\n",
    "X = np.array([61,64,67,70,73])\n",
    "FX = np.array([5,18,42,27,8])\n",
    "PX = FX / sum(FX)\n",
    "\n",
    "#Expectation of X:\n",
    "E_X = (X*PX).sum()\n",
    "\n",
    "#Variance of X\n",
    "Var_X = (X**2 * PX).sum() - E_X**2\n",
    "\n",
    "#Skeweness of X\n",
    "Skew_X = (((X - E_X)**3)*PX).sum() / (Var_X)**1.5\n",
    "\n",
    "print(\"Expectation E(x) = \",E_X)\n",
    "print(\"Variance Var(x) = \",Var_X)\n",
    "print(\"Skeweness of x = \",Skew_X)"
   ]
  },
  {
   "cell_type": "markdown",
   "metadata": {},
   "source": [
    "## Probability Density Function (PDF)"
   ]
  },
  {
   "cell_type": "code",
   "execution_count": 3,
   "metadata": {},
   "outputs": [
    {
     "data": {
      "image/png": "[encoded data removed]",
      "text/plain": [
       "<matplotlib.figure.Figure at 0x1915fb9908>"
      ]
     },
     "metadata": {},
     "output_type": "display_data"
    }
   ],
   "source": [
    "plt.figure(figsize = (5,5))\n",
    "plt.bar(X,PX, width = 1.5)\n",
    "plt.title('Discrete PDF')\n",
    "plt.ylabel('Probability')\n",
    "plt.show()\n",
    "#Pl"
   ]
  },
  {
   "cell_type": "markdown",
   "metadata": {},
   "source": [
    "## Cumulative Distribution Function \n",
    "\n",
    "$cdf = \\sum p(x) $"
   ]
  },
  {
   "cell_type": "code",
   "execution_count": 4,
   "metadata": {},
   "outputs": [
    {
     "data": {
      "image/png": "[encoded data removed]",
      "text/plain": [
       "<matplotlib.figure.Figure at 0x1a1d455128>"
      ]
     },
     "metadata": {},
     "output_type": "display_data"
    }
   ],
   "source": [
    "CDF_X = PX.cumsum()\n",
    "plt.figure(figsize = (5,5))\n",
    "plt.bar(X,CDF_X, width = 1.5)\n",
    "plt.title('Discrete CDF')\n",
    "plt.ylabel('Probability')\n",
    "plt.show()\n"
   ]
  },
  {
   "cell_type": "markdown",
   "metadata": {},
   "source": [
    "# Central Limit Theorem\n",
    "\n",
    "Given the following population parameters:\n",
    "\n",
    "$\\mu = $ population mean \n",
    "\n",
    "$\\sigma = $ population standard deviation \n",
    "\n",
    "The sampling statistics are:\n",
    "\n",
    "$\\mu_\\bar{x} = $ sample mean\n",
    "\n",
    "## Standard Error\n",
    "The variance of the sampling distribution of the sample mean decreases with n, the sample size\n",
    "\n",
    "$\\sigma_{\\bar{x}}^2 = {\\frac{\\sigma^2}{n}} $\n",
    "\n",
    "$\\sigma_{\\bar{x}} = {\\frac{\\sigma}{\\sqrt{n}}} $"
   ]
  },
  {
   "cell_type": "code",
   "execution_count": 19,
   "metadata": {},
   "outputs": [
    {
     "name": "stdout",
     "output_type": "stream",
     "text": [
      "The population parameters are: E(X) = 3.5, Std(X) = 1.708\n",
      "The sampling distribution of the means statistics are: mean = 3.5, std = 0.054\n",
      "The standard error is 0.054\n"
     ]
    },
    {
     "data": {
      "image/png": "[encoded data removed]",
      "text/plain": [
       "<matplotlib.figure.Figure at 0x1a1d5504a8>"
      ]
     },
     "metadata": {},
     "output_type": "display_data"
    },
    {
     "data": {
      "image/png": "[encoded data removed]",
      "text/plain": [
       "<matplotlib.figure.Figure at 0x1a1d4cbe10>"
      ]
     },
     "metadata": {},
     "output_type": "display_data"
    }
   ],
   "source": [
    "#Sample size = n, number of repeats = k\n",
    "n, k = (1000,1000)\n",
    "\n",
    "#Define probability density function\n",
    "X = np.array([1,2,3,4,5,6])\n",
    "PX = np.array([1,1,1,1,1,1])/6\n",
    "E_X = (X*PX).sum()\n",
    "Var_X = (X**2 * PX).sum() - E_X**2\n",
    "Std_X = np.sqrt(Var_X)\n",
    "std_error = np.sqrt(Var_X/n)\n",
    "\n",
    "\n",
    "means_array = np.array([])\n",
    "\n",
    "for i in range(k):\n",
    "    sample_mean = np.random.choice(X,size = n).mean()\n",
    "    means_array = np.append(means_array,sample_mean)\n",
    "\n",
    "means_std = round(means_array.std(ddof = 1),3)\n",
    "means_means = round(means_array.mean(),3)\n",
    "\n",
    "print(\"The population parameters are: E(X) = {}, Std(X) = {}\".format(E_X,round(Std_X,3)))\n",
    "print(\"The sampling distribution of the means statistics are: mean = {}, std = {}\".format(means_means,means_std))\n",
    "print(\"The standard error is {}\".format(round(std_error,3)))\n",
    "\n",
    "val,freq = np.unique(means_array,return_counts=True)\n",
    "\n",
    "plt.subplot(2,1,1)\n",
    "plt.bar(X,PX, width = 0.5)\n",
    "plt.title('Discrete PDF')\n",
    "plt.ylabel('Probability')\n",
    "plt.show()\n",
    "\n",
    "plt.subplot(2,1,2)\n",
    "plt.scatter(val,freq, label = 'std = {} \\nmean = {}'.format(means_std,means_means))\n",
    "plt.title('Means Frequency Distribution')\n",
    "plt.ylabel('Frequency')\n",
    "plt.legend(loc = 'upper right')\n",
    "plt.show()"
   ]
  },
  {
   "cell_type": "markdown",
   "metadata": {},
   "source": [
    "# Correlation Coefficient (for samples)\n",
    "\n",
    "Also called Pearson's coefficient - \n",
    "\n",
    "$ r=r_{xy}={\\frac {1}{n-1}}\\sum _{i=1}^{n}\\left({\\frac {x_{i}-{\\bar {x}}}{s_{x}}}\\right)\\left({\\frac {y_{i}-{\\bar {y}}}{s_{y}}}\\right)$\n",
    "\n",
    "where:\n",
    "- $n$ is the sample size\n",
    "- $ x_i,y_i $ are the single samples indexed with i\n",
    "\n",
    "- $ {\\bar {x}}={\\frac {1}{n}}\\sum _{i=1}^{n}x_{i}$ (the sample mean)\n",
    "- $\\left({\\frac {x_{i}-{\\bar {x}}}{s_{x}}}\\right)$ is the standard score, or z-score\n",
    "- $ s_{x}={\\sqrt {{\\frac {1}{n-1}}\\sum _{i=1}^{n}(x_{i}-{\\bar {x}})^{2}}} $ \n",
    "\n",
    "or alternatively $r=r_{xy}={\\frac {\\sum x_{i}y_{i}-n{\\bar {x}}{\\bar {y}}}{(n-1)s_{x}s_{y}}}$"
   ]
  },
  {
   "cell_type": "code",
   "execution_count": 6,
   "metadata": {
    "collapsed": true
   },
   "outputs": [],
   "source": [
    "def pearsons_sample_corr(x,y):\n",
    "    ''' Pearsons correlation coefficient using only the numpy and maths module \n",
    "        Note that this version is for samples (not population) and makes use of the broadcasting \n",
    "        functionalities of the numpy library\n",
    "        The scipy version is scipy.stats.pearsonr(X1,Y1)\n",
    "        ----------------------'''\n",
    "    \n",
    "    n = len(x)\n",
    "    mx = x.mean()\n",
    "    my = y.mean()\n",
    "    sx = x.std(ddof = 1) #ddof param for sample \n",
    "    sy = y.std(ddof = 1)\n",
    "    num = np.add.reduce(x * y) - n*mx*my #Note the use of broadcasting, no loops\n",
    "    denum = (n-1)*sx*sy\n",
    "    r = num/denum\n",
    "    return r"
   ]
  },
  {
   "cell_type": "code",
   "execution_count": 7,
   "metadata": {},
   "outputs": [
    {
     "name": "stdout",
     "output_type": "stream",
     "text": [
      "CPU times: user 375 µs, sys: 43 µs, total: 418 µs\n",
      "Wall time: 397 µs\n"
     ]
    },
    {
     "data": {
      "text/plain": [
       "0.94491118252306805"
      ]
     },
     "execution_count": 7,
     "metadata": {},
     "output_type": "execute_result"
    }
   ],
   "source": [
    "X = np.array([1,2,2,3])\n",
    "Y=np.array([1,2,3,6])\n",
    "%time pearsons_sample_corr(X,Y)"
   ]
  },
  {
   "cell_type": "markdown",
   "metadata": {},
   "source": [
    "# Simple linear regression - Least Square Method\n",
    "\n",
    "The general formlula for the simple linear regression is: \n",
    "\n",
    "$ \\hat {y} = m \\cdot x + b $\n",
    "\n",
    "$ m = r {\\frac {s_y}{s_x}} $ which can also be written as $ m = \\frac{S_{x,y}}{\\sigma_{x}^{2}}\\quad $\n",
    "\n",
    "$ b = \\bar{y} - r {\\frac {s_y}{s_x}} \\cdot \\bar{x} $\n",
    "\n",
    "Where\n",
    "- $r$ is Pearson's coefficient\n",
    "- $s_x $ is the sample standard deviation of $x$ \n",
    "- $s_y $ is the sample standard deviation of $y$\n",
    "- $s_{xy} $ is the covariance of $x$ and $y$\n",
    "- $\\sigma_{x}^{2}$ the variance of $x$\n",
    "- $\\bar{x}, \\bar{y}$ are the sample mean of $x$ and $y$\n"
   ]
  },
  {
   "cell_type": "code",
   "execution_count": 8,
   "metadata": {
    "collapsed": true
   },
   "outputs": [],
   "source": [
    "def simple_linear_reg(x,y):\n",
    "    r = pearsons_sample_corr(x,y)\n",
    "    sx = x.std(ddof = 1)\n",
    "    sy = y.std(ddof = 1)\n",
    "    xm = x.mean()\n",
    "    ym = y.mean()\n",
    "    m = r * (sy/sx)\n",
    "    b = ym - m * xm\n",
    "    y_prediction = m * x + b\n",
    "    print('The linear regression model is y = {}x + {}'.format(m,b))\n",
    "    return y_prediction"
   ]
  },
  {
   "cell_type": "code",
   "execution_count": 9,
   "metadata": {},
   "outputs": [
    {
     "name": "stdout",
     "output_type": "stream",
     "text": [
      "The linear regression model is y = 2.5x + -2.0\n"
     ]
    },
    {
     "data": {
      "text/plain": [
       "array([ 0.5,  3. ,  3. ,  5.5])"
      ]
     },
     "execution_count": 9,
     "metadata": {},
     "output_type": "execute_result"
    }
   ],
   "source": [
    "simple_linear_reg(X,Y)"
   ]
  },
  {
   "cell_type": "markdown",
   "metadata": {},
   "source": [
    "# Residuals, Errors and [Sum of Squares][1]\n",
    "\n",
    "A data set has n values marked $ y_1,...,yn $ each associated with a predicted (or modeled) value $ \\hat {y}_i...\\hat{y}_n $\n",
    "\n",
    "- The residuals are $ e_i = y_i − \\hat{y}_i  $ (forming a vector e).\n",
    "\n",
    "- $ \\bar {y} $ is the mean of the observed data: $ \\bar {y}={\\frac {1}{n}}\\sum _{i=1}^{n}y_{i} $\n",
    "\n",
    "Then the variability of the data set can be measured using three sums of squares formulas:\n",
    "\n",
    " - The **total sum of squares** (proportional to the variance of the data):\n",
    "\n",
    "    $ TSS = SS_{\\text{tot}}=\\sum _{i}(y_{i}-{\\bar {y}})^{2} $\n",
    "\n",
    "- The **regression sum of squares**, also called the explained sum of squares:\n",
    "\n",
    "    $ ESS = SS_{\\text{reg}}=\\sum _{i}(\\hat{y}_i-{\\bar {y}})^{2} $\n",
    "\n",
    "- The **sum of squares of residuals**, also called the residual sum of squares:\n",
    "\n",
    "    $ RSS = {\\displaystyle SS_{\\text{res}}=\\sum _{i}(y_{i}-\\hat{y}_{i})^{2}=\\sum _{i}e_{i}^{2}\\,} $\n",
    "\n",
    "The most general definition of the coefficient of determination is\n",
    "\n",
    "$ R^{2}\\equiv 1-{SS_{\\rm {res}} \\over SS_{\\rm {tot}}}\\, $ or $ R^{2} = 1 - \\frac{RSS}{TSS} $\n",
    "\n",
    "\n",
    "The Root Mean Squared Error (RMSE) is the standard deviation of the residuals $e$ : \n",
    "\n",
    "$ RSME = \\sqrt{\\frac {\\sum _{i}(y_{i}-\\hat{y}_{i})^{2}} {n-1} }$\n",
    "\n",
    "[1]: https://en.wikipedia.org/wiki/Coefficient_of_determination"
   ]
  },
  {
   "cell_type": "code",
   "execution_count": 10,
   "metadata": {
    "collapsed": true
   },
   "outputs": [],
   "source": [
    "def residual_errors(x,y):\n",
    "    y_prediction = simple_linear_reg(x,y)\n",
    "    e = y - y_prediction\n",
    "    TSS = np.add.reduce((y - y.mean())**2)\n",
    "    ESS = np.add.reduce((y_prediction- y.mean())**2)\n",
    "    RSS = np.add.reduce((y - y_prediction)**2)\n",
    "    RMSD = e.std(ddof = 1)\n",
    "    \n",
    "    print('TSS = {}'.format(TSS))\n",
    "    print('ESS = {}'.format(ESS))\n",
    "    print('RSS = {}'.format(RSS))\n",
    "    print('RMSD = {}'.format(RMSD))\n",
    "    return e    "
   ]
  },
  {
   "cell_type": "code",
   "execution_count": 11,
   "metadata": {},
   "outputs": [
    {
     "name": "stdout",
     "output_type": "stream",
     "text": [
      "The linear regression model is y = 2.5x + -2.0\n",
      "TSS = 14.0\n",
      "ESS = 12.5\n",
      "RSS = 1.5\n",
      "RMSD = 0.7071067811865476\n"
     ]
    },
    {
     "data": {
      "text/plain": [
       "array([ 0.5, -1. ,  0. ,  0.5])"
      ]
     },
     "execution_count": 11,
     "metadata": {},
     "output_type": "execute_result"
    }
   ],
   "source": [
    "residual_errors(X,Y)"
   ]
  },
  {
   "cell_type": "code",
   "execution_count": 12,
   "metadata": {},
   "outputs": [
    {
     "data": {
      "text/plain": [
       "0.7071067811865476"
      ]
     },
     "execution_count": 12,
     "metadata": {},
     "output_type": "execute_result"
    }
   ],
   "source": [
    "m.sqrt(1.5 / 3)"
   ]
  },
  {
   "cell_type": "markdown",
   "metadata": {},
   "source": [
    "# Normal Distribution"
   ]
  },
  {
   "cell_type": "markdown",
   "metadata": {},
   "source": [
    "The [normal distribution][1] is a very common continuous probability distribution found in natural processes. A random variable with a Gaussian distribution is said to be normally distributed and is called a normal deviate. The normal distribution is particularly important due to the central limit theorem.\n",
    "\n",
    "\n",
    "The **probability density** of the normal distribution is:\n",
    "\n",
    "\n",
    "- $ pdf(x,\\mu,\\sigma) = \\frac{1}{\\sigma\\sqrt{2\\pi}}e^\\frac{-1}{2z^2} $\n",
    "\n",
    "The **cumulative density** is:\n",
    "\n",
    "- $ cdf(a,b,\\mu,\\sigma) =  \\int_a^b \\frac{1}{ \\sigma \\sqrt{2 \\pi}} e^{\\left(-\\frac{{\\left(\\mu - x\\right)}^{2}}{2 \\, \\sigma^{2}}\\right)} dx $\n",
    "\n",
    "Which can be written in terms of the error function $ erf $ \n",
    "\n",
    "- $ cdf(a,b,\\mu,\\sigma) =  - \\frac{1}{2} \\, \\text{erf}\\left(\\frac{\\sqrt{2} (a-\\mu)}{2 \\, \\sigma}\\right) + \\frac{1}{2} \\, \\text{erf}\\left(\\frac{\\sqrt{2} (b -\\mu)}{2 \\, \\sigma}\\right) $\n",
    "\n",
    "\n",
    "where\n",
    "\n",
    "- $z=\\frac{(X-\\mu)}{\\sigma}$\n",
    "\n",
    "- $\\mu$  is the mean or expectation of the distribution (and also its median and mode).\n",
    "\n",
    "- $\\sigma$  is the standard deviation\n",
    "\n",
    "- $\\sigma ^{2}$ is the variance\n",
    "\n",
    "### The Normal Distribution is summarized below:\n",
    "\n",
    "[1]: https://en.wikipedia.org/wiki/Normal_distribution"
   ]
  },
  {
   "cell_type": "code",
   "execution_count": 13,
   "metadata": {},
   "outputs": [
    {
     "data": {
      "text/html": [
       "<img src=\"http://upload.wikimedia.org/wikipedia/commons/thumb/2/25/The_Normal_Distribution.svg/725px-The_Normal_Distribution.svg.png\"/>"
      ],
      "text/plain": [
       "<IPython.core.display.Image object>"
      ]
     },
     "execution_count": 13,
     "metadata": {},
     "output_type": "execute_result"
    }
   ],
   "source": [
    "from IPython.display import Image\n",
    "Image(url='http://upload.wikimedia.org/wikipedia/commons/thumb/2/25/The_Normal_Distribution.svg/725px-The_Normal_Distribution.svg.png')"
   ]
  },
  {
   "cell_type": "markdown",
   "metadata": {},
   "source": [
    "### Defining the PDF and CDF functions"
   ]
  },
  {
   "cell_type": "code",
   "execution_count": 14,
   "metadata": {
    "collapsed": true
   },
   "outputs": [],
   "source": [
    "def pdf_normal(x,mu,sigma):\n",
    "    return (1/(sigma * np.sqrt(2*np.pi)) * np.exp(-(mu-x)**2 / (2*sigma**2)))\n",
    "\n",
    "def cdf_normal(a,b,mu,sigma):\n",
    "    return (-0.5 * m.erf((m.sqrt(2)*(a - mu)) / (2*sigma)) + 0.5 * m.erf((m.sqrt(2)*(b - mu)) / (2*sigma)))\n",
    "    \n",
    "def z_score(x,mu,sigma):\n",
    "    return (x - mu)/ sigma"
   ]
  },
  {
   "cell_type": "markdown",
   "metadata": {},
   "source": [
    "### Visualizing the Normal Probability Density Function (PDF) "
   ]
  },
  {
   "cell_type": "code",
   "execution_count": 15,
   "metadata": {},
   "outputs": [
    {
     "data": {
      "image/png": "[encoded data removed]",
      "text/plain": [
       "<matplotlib.figure.Figure at 0x110fd9208>"
      ]
     },
     "metadata": {},
     "output_type": "display_data"
    }
   ],
   "source": [
    "# Create a range and define parameters\n",
    "mean, std = 100,10\n",
    "X = np.arange(mean-5*std,mean+5*std,0.01)\n",
    "Y = pdf_normal(X,mean,std)\n",
    "\n",
    "# Specify a and b ranges for CDF and color filling\n",
    "a,b = 110,110\n",
    "Xfill = np.arange(a,b,0.01)\n",
    "Yfill = pdf_normal(Xfill,mean,std)\n",
    "area = cdf_normal(a,b,mean,std)\n",
    "\n",
    "\n",
    "#Plot the figure\n",
    "plt.figure(figsize=(10,5))\n",
    "plt.plot(X,Y, label = 'pdf')\n",
    "plt.title('Normal Distribution PDF')\n",
    "plt.ylabel('Probability')\n",
    "plt.fill_between(Xfill,Yfill,0, label = 'area = {}'.format(round(area,2)))\n",
    "plt.legend(loc = 'upper right')\n",
    "plt.show()"
   ]
  },
  {
   "cell_type": "markdown",
   "metadata": {},
   "source": [
    "## Visualizing the Normal Cumulative Density Function (CDF)"
   ]
  },
  {
   "cell_type": "code",
   "execution_count": 16,
   "metadata": {},
   "outputs": [
    {
     "data": {
      "image/png": "[encoded data removed]",
      "text/plain": [
       "<matplotlib.figure.Figure at 0x1a1d76a160>"
      ]
     },
     "metadata": {},
     "output_type": "display_data"
    }
   ],
   "source": [
    "#Based on parameters from above - calcualte CDF values\n",
    "Ycdf = [cdf_normal(-mean+5*std,i,mean,std) for i in X]\n",
    "Xfill = np.arange(a,b,0.01)\n",
    "Yfill = [cdf_normal(-mean+5*std,j,mean,std) for j in Xfill]\n",
    "cdf_ab = round(cdf_normal(a,b,mean,std),2)\n",
    "cdf_a = round(cdf_normal(0,a,mean,std),2)\n",
    "cdf_b = round(cdf_normal(0,b,mean,std),2)\n",
    "\n",
    "#Plot the figure \n",
    "plt.figure(figsize=(10,5))\n",
    "plt.plot(X,Ycdf, label = 'cdf')\n",
    "plt.title('Normal Distribution CDF')\n",
    "plt.ylabel('Probability')\n",
    "\n",
    "# draw vertical line from (70,100) to (70, 250)\n",
    "plt.plot([a,a],[0,cdf_a],'k-', label = 'cdf(a) = {}'.format(cdf_a))\n",
    "plt.plot([b,b],[0,cdf_normal(0,b,mean,std)],'r-', label = 'cdf(b) = {}'.format(cdf_b))\n",
    "plt.plot([b,b],[0,0],'w-', label = 'cdf(b-a) = {}'.format(cdf_ab))\n",
    "\n",
    "#plt.fill_between(Xfill,Yfill,0, color = '1',label = 'CDF (a,b) = {}'.format(round(area,2)))\n",
    "plt.legend(loc = 'lower right')\n",
    "plt.show()\n"
   ]
  },
  {
   "cell_type": "code",
   "execution_count": null,
   "metadata": {
    "collapsed": true
   },
   "outputs": [],
   "source": []
  },
  {
   "cell_type": "code",
   "execution_count": null,
   "metadata": {
    "collapsed": true
   },
   "outputs": [],
   "source": []
  },
  {
   "cell_type": "code",
   "execution_count": null,
   "metadata": {
    "collapsed": true
   },
   "outputs": [],
   "source": []
  }
 ],
 "metadata": {
  "kernelspec": {
   "display_name": "Python 3",
   "language": "python",
   "name": "python3"
  },
  "language_info": {
   "codemirror_mode": {
    "name": "ipython",
    "version": 3
   },
   "file_extension": ".py",
   "mimetype": "text/x-python",
   "name": "python",
   "nbconvert_exporter": "python",
   "pygments_lexer": "ipython3",
   "version": "3.6.4"
  }
 },
 "nbformat": 4,
 "nbformat_minor": 2
}
